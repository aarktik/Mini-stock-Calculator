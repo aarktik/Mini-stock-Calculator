{
  "cells": [
    {
      "cell_type": "markdown",
      "metadata": {
        "id": "view-in-github",
        "colab_type": "text"
      },
      "source": [
        "<a href=\"https://colab.research.google.com/github/aarktik/Mini-stock-Calculator/blob/main/Mini_stock_calculator.ipynb\" target=\"_parent\"><img src=\"https://colab.research.google.com/assets/colab-badge.svg\" alt=\"Open In Colab\"/></a>"
      ]
    },
    {
      "cell_type": "markdown",
      "source": [
        "#  **Prompt 1**\n",
        "as a student in a group of 3 persons: เตอร์ as debugger, ออมสิน as planner, บีม as coder with topic: Mini stock calculator, how to progress with week1/sprint 1"
      ],
      "metadata": {
        "id": "76Ma4iNmtI1o"
      }
    },
    {
      "cell_type": "markdown",
      "source": [
        "แน่นอนครับ ในฐานะนักเรียนในกลุ่ม 3 คน ได้แก่ **เตอร์** (Debugger), **ออมสิน** (Planner), และ **บีม** (Coder) สำหรับหัวข้อ \"Mini Stock Calculator\" นี่คือแนวทางในการทำงานสำหรับสัปดาห์ที่ 1 หรือ Sprint 1 ครับ\n",
        "\n",
        "---\n",
        "\n",
        "## แผนการทำงานสำหรับสัปดาห์ที่ 1 / Sprint 1\n",
        "\n",
        "### 1. **การเริ่มต้นโปรเจกต์และการวางแผนระดับสูง (ออมสิน)**\n",
        "\n",
        "* **กำหนดขอบเขต (Scope):** ในฐานะกลุ่ม ให้ทุกคนช่วยกันตัดสินใจว่า **ฟังก์ชันหลัก** ของเครื่องคิดเลขหุ้นขนาดเล็กนี้ควรมีอะไรบ้างในช่วงเริ่มต้นนี้ ทำให้มันเรียบง่ายที่สุดสำหรับสปรินต์แรก\n",
        "    * **ข้อเสนอ:** เริ่มจากเครื่องคิดเลขพื้นฐานที่สามารถรับราคาซื้อ ราคาขาย และจำนวนหุ้น เพื่อคำนวณกำไร/ขาดทุน และเปอร์เซ็นต์กำไร/ขาดทุน หลีกเลี่ยงคุณสมบัติที่ซับซ้อน เช่น ข้อมูลแบบเรียลไทม์ หรือกราฟประวัติศาสตร์ในตอนนี้\n",
        "* **สร้าง User Stories:** เขียนสิ่งที่ผู้ใช้ควรจะสามารถทำได้ ตัวอย่างเช่น:\n",
        "    * \"ในฐานะผู้ใช้ ฉันต้องการป้อนจำนวนหุ้นที่ฉันซื้อ เพื่อให้เครื่องคิดเลขรู้ว่าจะต้องคำนวณจากจำนวนหุ้นเท่าไหร่\"\n",
        "    * \"ในฐานะผู้ใช้ ฉันต้องการป้อนราคาซื้อและราคาขายของหุ้น เพื่อที่ฉันจะสามารถเห็นกำไรหรือขาดทุนทั้งหมดของฉัน\"\n",
        "* **ตั้งเป้าหมาย:** กำหนดว่าคุณต้องการให้งานอะไรเสร็จสิ้นภายในสิ้นสุดสัปดาห์ที่ 1 นี้ อาจจะเป็นต้นแบบ (prototype) ของโปรแกรมแบบ Command-line Interface (CLI) ที่ใช้งานได้จริง\n",
        "\n",
        "### 2. **การเตรียมความพร้อมทางเทคนิค (บีม และ เตอร์)**\n",
        "\n",
        "* **เลือกภาษาและสภาพแวดล้อมการเขียนโปรแกรม:** **บีม** ควรเลือกภาษาที่ทีมทำงานด้วยได้ง่าย (เช่น Python, JavaScript) ส่วน **เตอร์** ควรเตรียมสภาพแวดล้อมการดีบักสำหรับภาษานั้น\n",
        "* **ตั้งค่า Project Repository:** สร้างที่เก็บโค้ดที่ใช้ร่วมกันบน GitHub, GitLab หรือแพลตฟอร์มที่คล้ายกัน **บีม** ควรเป็นคนตั้งโครงสร้างโปรเจกต์เริ่มต้น (เช่น `main.py`, `README.md`)\n",
        "* **กำหนด Code Style:** ตกลงกันในเรื่องสไตล์การเขียนโค้ดที่สอดคล้องกัน เพื่อให้โค้ดอ่านง่ายและดีบักง่าย\n",
        "\n",
        "---\n",
        "\n",
        "### 3. **การลงมือทำและทำงานร่วมกัน**\n",
        "\n",
        "* **บีม (Coder) เริ่มต้นเขียนโค้ด:** โดยอ้างอิงจาก User Stories ที่ **ออมสิน** เขียนไว้ **บีม** จะเริ่มเขียนโค้ดในส่วนของตรรกะหลัก เริ่มจากฟังก์ชันง่ายๆ ที่คำนวณกำไร\n",
        "* **เตอร์ (Debugger) ตั้งค่าการทดสอบ:** ขณะที่ **บีม** กำลังเขียนโค้ด **เตอร์** จะเขียน **Unit Tests** สำหรับฟังก์ชันที่วางแผนไว้ นี่คือการเขียนโค้ดเล็กๆ เพื่อตรวจสอบว่าฟังก์ชันนั้นทำงานได้ถูกต้องกับข้อมูลที่กำหนดหรือไม่ ตัวอย่างเช่น การทดสอบฟังก์ชันกำไรควรจะตรวจสอบว่า `(ราคาขาย - ราคาซื้อ) * จำนวนหุ้น` ถูกต้องสำหรับชุดตัวเลขที่กำหนด\n",
        "* **ออมสิน (Planner) จัดระเบียบ:** **ออมสิน** ควรจัดการงานบนแพลตฟอร์มอย่าง Trello หรือเอกสารที่ใช้ร่วมกันง่ายๆ มอบหมาย User Stories ให้ **บีม** และมอบหมาย Test cases ให้ **เตอร์** ติดตามความคืบหน้าและตรวจสอบให้แน่ใจว่าทีมทำงานตามกำหนดเวลา\n",
        "\n",
        "---\n",
        "\n",
        "### 4. **การตรวจสอบประจำวันและทบทวน**\n",
        "\n",
        "* **ประชุมสั้นๆ รายวัน (Daily Scrums):** จัดการประชุมสั้นๆ 10-15 นาทีในแต่ละวันเพื่อพูดคุยถึงสิ่งที่แต่ละคนทำไปแล้ว สิ่งที่จะทำต่อไป และปัญหาที่พบเจอ\n",
        "    * **ตัวอย่าง:** \"**บีม** จะทำงานในส่วนของฟังก์ชันคำนวณกำไร **เตอร์** จะเขียนการทดสอบสำหรับฟังก์ชันนั้น **ออมสิน** จะปรับปรุง User Stories สำหรับฟีเจอร์ถัดไป\"\n",
        "* **การเขียนโค้ดคู่/การดีบัก:** หาก **บีม** พบข้อผิดพลาด (bug) **เตอร์** สามารถเข้าร่วมเพื่อดีบักโค้ดด้วยกันได้ ซึ่งจะช่วยให้เข้าใจโค้ดและค้นหาปัญหาได้เร็วขึ้น **ออมสิน** ก็สามารถให้มุมมองใหม่ๆ ได้หากทีมติดขัด\n",
        "\n",
        "เมื่อสิ้นสุดสัปดาห์ที่ 1 เป้าหมายของคุณคือการมีต้นแบบที่ใช้งานได้จริง ซึ่งสามารถทำการคำนวณกำไร/ขาดทุนพื้นฐาน พร้อมกับการทดสอบเพื่อให้แน่ใจว่ามันไม่มีข้อผิดพลาด ซึ่งสิ่งนี้จะเป็นรากฐานที่แข็งแกร่งสำหรับการสร้างคุณสมบัติอื่นๆ ในสปรินต์ถัดไปครับ"
      ],
      "metadata": {
        "id": "2YL5EHpUwgUE"
      }
    },
    {
      "cell_type": "markdown",
      "source": [
        "# **Prompt 2**\n",
        "reframe this into github and full function sourcecode for week1/sprint 1"
      ],
      "metadata": {
        "id": "BC-FGmniusW_"
      }
    },
    {
      "cell_type": "markdown",
      "source": [
        "สำหรับ Week 1 / Sprint 1 ของโปรเจกต์ Mini Stock Calculator นี่คือการจัดโครงสร้างบน GitHub และโค้ด Python เบื้องต้นสำหรับกลุ่มของคุณครับ\n",
        "\n",
        "-----\n",
        "\n",
        "## 💻 โครงสร้าง GitHub และการทำงานในทีม\n",
        "\n",
        "### 1\\. **การตั้งค่า Repository**\n",
        "\n",
        "  * **ออมสิน (Planner)**: สร้าง **repository** บน GitHub ชื่อ `mini-stock-calculator` และเชิญ **บีม** และ **เตอร์** เข้าร่วม\n",
        "  * **บีม (Coder)**: สร้างไฟล์พื้นฐานดังนี้:\n",
        "      * `main.py`: ไฟล์หลักสำหรับรันโปรแกรม\n",
        "      * `calculator.py`: ไฟล์สำหรับฟังก์ชันคำนวณต่างๆ\n",
        "      * `README.md`: ไฟล์อธิบายโปรเจกต์และวิธีการใช้งาน\n",
        "      * `.gitignore`: ไฟล์สำหรับกำหนดว่าไม่ให้ไฟล์ไหนถูกอัปโหลดขึ้น GitHub เช่น ไฟล์ชั่วคราว\n",
        "  * **บีม** จะทำการ `git commit` และ `git push` โครงสร้างไฟล์เหล่านี้ขึ้นไปบน `main` branch เป็นครั้งแรก\n",
        "\n",
        "### 2\\. **Git Workflow สำหรับสัปดาห์ที่ 1**\n",
        "\n",
        "  * **บีม (Coder)**: จะสร้าง **branch** ใหม่สำหรับทำงาน เช่น `feature/calculation-logic`\n",
        "  * **บีม** จะเขียนโค้ดฟังก์ชันในไฟล์ `calculator.py`\n",
        "  * เมื่อโค้ดเสร็จแล้ว **บีม** จะทำการ `git push` branch ของตัวเองขึ้นไป และเปิด **Pull Request (PR)** ไปยัง `main` branch พร้อมอธิบายว่าโค้ดนี้ทำอะไร\n",
        "  * **เตอร์ (Debugger)**: จะ **review** โค้ดใน Pull Request ของ **บีม** โดยเน้นที่การหาบั๊กหรือข้อผิดพลาด\n",
        "  * **ออมสิน (Planner)**: จะช่วยตรวจสอบภาพรวมของ PR และติดตามความคืบหน้าของงาน\n",
        "  * เมื่อทีมเห็นว่าโค้ดถูกต้องและไม่มีปัญหา **เตอร์** หรือ **ออมสิน** จะทำการ **approve** และ **merge** โค้ดเข้าสู่ `main` branch\n",
        "\n",
        "-----\n",
        "\n",
        "## 📝 ฟังก์ชันและโค้ดตัวอย่างสำหรับ Week 1\n",
        "\n",
        "### **เป้าหมาย:** สร้างฟังก์ชันที่สามารถคำนวณกำไรและเปอร์เซ็นต์กำไร/ขาดทุนได้\n",
        "\n",
        "### `calculator.py`\n",
        "\n",
        "```python\n",
        "def calculate_profit_loss(buy_price: float, sell_price: float, shares: int) -> float:\n",
        "    \"\"\"\n",
        "    Calculates the total profit or loss from a stock transaction.\n",
        "\n",
        "    Args:\n",
        "        buy_price: The price per share the stock was bought at.\n",
        "        sell_price: The price per share the stock was sold at.\n",
        "        shares: The number of shares bought and sold.\n",
        "\n",
        "    Returns:\n",
        "        The total profit (positive) or loss (negative) amount.\n",
        "    \"\"\"\n",
        "    return (sell_price - buy_price) * shares\n",
        "\n",
        "def calculate_percentage_change(buy_price: float, sell_price: float) -> float:\n",
        "    \"\"\"\n",
        "    Calculates the percentage gain or loss from a stock transaction.\n",
        "\n",
        "    Args:\n",
        "        buy_price: The price per share the stock was bought at.\n",
        "        sell_price: The price per share the stock was sold at.\n",
        "\n",
        "    Returns:\n",
        "        The percentage change (positive for gain, negative for loss).\n",
        "    \"\"\"\n",
        "    if buy_price == 0:\n",
        "        return 0.0  # Avoid division by zero\n",
        "    return ((sell_price - buy_price) / buy_price) * 100\n",
        "\n",
        "```\n",
        "\n",
        "**หน้าที่ของบีม:** เขียนโค้ดด้านบนนี้ในไฟล์ `calculator.py` เพื่อให้เป็นฟังก์ชันหลักสำหรับคำนวณ\n",
        "\n",
        "### `main.py`\n",
        "\n",
        "```python\n",
        "from calculator import calculate_profit_loss, calculate_percentage_change\n",
        "\n",
        "def main():\n",
        "    \"\"\"\n",
        "    Main function to run the Mini Stock Calculator.\n",
        "    \"\"\"\n",
        "    print(\"Welcome to Mini Stock Calculator!\")\n",
        "\n",
        "    try:\n",
        "        buy_price = float(input(\"Enter the buy price per share: \"))\n",
        "        sell_price = float(input(\"Enter the sell price per share: \"))\n",
        "        shares = int(input(\"Enter the number of shares: \"))\n",
        "\n",
        "        profit_loss = calculate_profit_loss(buy_price, sell_price, shares)\n",
        "        percentage_change = calculate_percentage_change(buy_price, sell_price)\n",
        "\n",
        "        print(f\"\\n--- Results ---\")\n",
        "        print(f\"Total Profit/Loss: {profit_loss:.2f} THB\")\n",
        "        print(f\"Percentage Change: {percentage_change:.2f}%\")\n",
        "\n",
        "        if profit_loss > 0:\n",
        "            print(\"Congratulations! You made a profit.\")\n",
        "        elif profit_loss < 0:\n",
        "            print(\"Oops! You incurred a loss.\")\n",
        "        else:\n",
        "            print(\"You broke even.\")\n",
        "\n",
        "    except ValueError:\n",
        "        print(\"Invalid input. Please enter valid numbers.\")\n",
        "    except Exception as e:\n",
        "        print(f\"An error occurred: {e}\")\n",
        "\n",
        "if __name__ == \"__main__\":\n",
        "    main()\n",
        "\n",
        "```\n",
        "\n",
        "**หน้าที่ของบีม:** เขียนโค้ดด้านบนนี้ในไฟล์ `main.py` เพื่อใช้เรียกฟังก์ชันจาก `calculator.py` และรับข้อมูลจากผู้ใช้\n",
        "\n",
        "**หน้าที่ของเตอร์:** เขียนโค้ดทดสอบ (Unit Test) สำหรับฟังก์ชันใน `calculator.py` โดยใช้ไลบรารีอย่าง `pytest` หรือ `unittest` เพื่อตรวจสอบความถูกต้องของโค้ดที่ **บีม** เขียน\n",
        "\n",
        "การทำงานในสัปดาห์แรกนี้จะช่วยให้กลุ่มของคุณมีระบบการทำงานที่ชัดเจนและมีโค้ดพื้นฐานที่สามารถต่อยอดได้ในสัปดาห์ถัดไปครับ"
      ],
      "metadata": {
        "id": "xDz_qFycwW52"
      }
    },
    {
      "cell_type": "markdown",
      "source": [
        "# **📂 โค้ดที่เสร็จในสัปดาห์นี้**"
      ],
      "metadata": {
        "id": "4Z1jm7JKRdtx"
      }
    },
    {
      "cell_type": "code",
      "source": [
        "def calculate_profit_loss(buy_price: float, sell_price: float, shares: int) -> float:\n",
        "    return (sell_price - buy_price) * shares\n",
        "\n",
        "def calculate_percentage_change(buy_price: float, sell_price: float) -> float:\n",
        "    if buy_price == 0:\n",
        "        return 0.0  # Avoid division by zero\n",
        "    return ((sell_price - buy_price) / buy_price) * 100\n",
        "\n",
        "def main():\n",
        "    print(\"Welcome to Mini Stock Calculator!\")\n",
        "\n",
        "    try:\n",
        "        buy_price = float(input(\"Enter the buy price per share: \"))\n",
        "        sell_price = float(input(\"Enter the sell price per share: \"))\n",
        "        shares = int(input(\"Enter the number of shares: \"))\n",
        "\n",
        "        profit_loss = calculate_profit_loss(buy_price, sell_price, shares)\n",
        "        percentage_change = calculate_percentage_change(buy_price, sell_price)\n",
        "\n",
        "        print(f\"\\n--- Results ---\")\n",
        "        print(f\"Total Profit/Loss: {profit_loss:.2f} THB\")\n",
        "        print(f\"Percentage Change: {percentage_change:.2f}%\")\n",
        "\n",
        "        if profit_loss > 0:\n",
        "            print(\"Congratulations! You made a profit.\")\n",
        "        elif profit_loss < 0:\n",
        "            print(\"Oops! You incurred a loss.\")\n",
        "        else:\n",
        "            print(\"You broke even.\")\n",
        "\n",
        "    except ValueError:\n",
        "        print(\"Invalid input. Please enter valid numbers.\")\n",
        "    except Exception as e:\n",
        "        print(f\"An error occurred: {e}\")\n",
        "\n",
        "if __name__ == \"__main__\":\n",
        "    main()"
      ],
      "metadata": {
        "colab": {
          "base_uri": "https://localhost:8080/"
        },
        "id": "V5qHbGH9RtS_",
        "outputId": "cce19e33-6050-4b5e-c0de-43af0f1d46a8"
      },
      "execution_count": null,
      "outputs": [
        {
          "output_type": "stream",
          "name": "stdout",
          "text": [
            "Welcome to Mini Stock Calculator!\n",
            "Enter the buy price per share: 212\n",
            "Enter the sell price per share: 250\n",
            "Enter the number of shares: 1\n",
            "\n",
            "--- Results ---\n",
            "Total Profit/Loss: 38.00 THB\n",
            "Percentage Change: 17.92%\n",
            "Congratulations! You made a profit.\n"
          ]
        }
      ]
    }
  ],
  "metadata": {
    "colab": {
      "provenance": [],
      "include_colab_link": true
    },
    "kernelspec": {
      "display_name": "Python 3",
      "name": "python3"
    }
  },
  "nbformat": 4,
  "nbformat_minor": 0
}